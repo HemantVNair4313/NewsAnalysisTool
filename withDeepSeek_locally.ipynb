{
 "cells": [
  {
   "cell_type": "code",
   "execution_count": 14,
   "id": "3d0b71b7",
   "metadata": {},
   "outputs": [
    {
     "name": "stdout",
     "output_type": "stream",
     "text": [
      "Requirement already satisfied: langchain in c:\\miniforge\\lib\\site-packages (0.3.25)\n",
      "Requirement already satisfied: langchain-huggingface in c:\\miniforge\\lib\\site-packages (0.2.0)\n",
      "Requirement already satisfied: sentence-transformers in c:\\miniforge\\lib\\site-packages (4.1.0)\n",
      "Requirement already satisfied: faiss-cpu in c:\\miniforge\\lib\\site-packages (1.11.0)\n",
      "Requirement already satisfied: requests in c:\\miniforge\\lib\\site-packages (2.31.0)\n",
      "Requirement already satisfied: langchain-core<1.0.0,>=0.3.58 in c:\\miniforge\\lib\\site-packages (from langchain) (0.3.60)\n",
      "Requirement already satisfied: langchain-text-splitters<1.0.0,>=0.3.8 in c:\\miniforge\\lib\\site-packages (from langchain) (0.3.8)\n",
      "Requirement already satisfied: langsmith<0.4,>=0.1.17 in c:\\miniforge\\lib\\site-packages (from langchain) (0.3.42)\n",
      "Requirement already satisfied: pydantic<3.0.0,>=2.7.4 in c:\\miniforge\\lib\\site-packages (from langchain) (2.11.4)\n",
      "Requirement already satisfied: SQLAlchemy<3,>=1.4 in c:\\miniforge\\lib\\site-packages (from langchain) (2.0.41)\n",
      "Requirement already satisfied: PyYAML>=5.3 in c:\\miniforge\\lib\\site-packages (from langchain) (6.0.2)\n",
      "Requirement already satisfied: async-timeout<5.0.0,>=4.0.0 in c:\\miniforge\\lib\\site-packages (from langchain) (4.0.3)\n",
      "Requirement already satisfied: tokenizers>=0.19.1 in c:\\miniforge\\lib\\site-packages (from langchain-huggingface) (0.21.1)\n",
      "Requirement already satisfied: transformers>=4.39.0 in c:\\miniforge\\lib\\site-packages (from langchain-huggingface) (4.51.3)\n",
      "Requirement already satisfied: huggingface-hub>=0.30.2 in c:\\miniforge\\lib\\site-packages (from langchain-huggingface) (0.31.2)\n",
      "Requirement already satisfied: tqdm in c:\\miniforge\\lib\\site-packages (from sentence-transformers) (4.66.2)\n",
      "Requirement already satisfied: torch>=1.11.0 in c:\\miniforge\\lib\\site-packages (from sentence-transformers) (2.7.0)\n",
      "Requirement already satisfied: scikit-learn in c:\\miniforge\\lib\\site-packages (from sentence-transformers) (1.6.1)\n",
      "Requirement already satisfied: scipy in c:\\miniforge\\lib\\site-packages (from sentence-transformers) (1.15.2)\n",
      "Requirement already satisfied: Pillow in c:\\miniforge\\lib\\site-packages (from sentence-transformers) (11.2.1)\n",
      "Requirement already satisfied: typing_extensions>=4.5.0 in c:\\miniforge\\lib\\site-packages (from sentence-transformers) (4.13.2)\n",
      "Requirement already satisfied: numpy<3.0,>=1.25.0 in c:\\miniforge\\lib\\site-packages (from faiss-cpu) (2.2.5)\n",
      "Requirement already satisfied: packaging in c:\\miniforge\\lib\\site-packages (from faiss-cpu) (24.0)\n",
      "Requirement already satisfied: charset-normalizer<4,>=2 in c:\\miniforge\\lib\\site-packages (from requests) (3.3.2)\n",
      "Requirement already satisfied: idna<4,>=2.5 in c:\\miniforge\\lib\\site-packages (from requests) (3.6)\n",
      "Requirement already satisfied: urllib3<3,>=1.21.1 in c:\\miniforge\\lib\\site-packages (from requests) (2.2.1)\n",
      "Requirement already satisfied: certifi>=2017.4.17 in c:\\miniforge\\lib\\site-packages (from requests) (2025.1.31)\n",
      "Requirement already satisfied: filelock in c:\\miniforge\\lib\\site-packages (from huggingface-hub>=0.30.2->langchain-huggingface) (3.18.0)\n",
      "Requirement already satisfied: fsspec>=2023.5.0 in c:\\miniforge\\lib\\site-packages (from huggingface-hub>=0.30.2->langchain-huggingface) (2025.3.2)\n",
      "Requirement already satisfied: tenacity!=8.4.0,<10.0.0,>=8.1.0 in c:\\miniforge\\lib\\site-packages (from langchain-core<1.0.0,>=0.3.58->langchain) (9.1.2)\n",
      "Requirement already satisfied: jsonpatch<2.0,>=1.33 in c:\\miniforge\\lib\\site-packages (from langchain-core<1.0.0,>=0.3.58->langchain) (1.33)\n",
      "Requirement already satisfied: httpx<1,>=0.23.0 in c:\\miniforge\\lib\\site-packages (from langsmith<0.4,>=0.1.17->langchain) (0.28.1)\n",
      "Requirement already satisfied: orjson<4.0.0,>=3.9.14 in c:\\miniforge\\lib\\site-packages (from langsmith<0.4,>=0.1.17->langchain) (3.10.18)\n",
      "Requirement already satisfied: requests-toolbelt<2.0.0,>=1.0.0 in c:\\miniforge\\lib\\site-packages (from langsmith<0.4,>=0.1.17->langchain) (1.0.0)\n",
      "Requirement already satisfied: zstandard<0.24.0,>=0.23.0 in c:\\miniforge\\lib\\site-packages (from langsmith<0.4,>=0.1.17->langchain) (0.23.0)\n",
      "Requirement already satisfied: annotated-types>=0.6.0 in c:\\miniforge\\lib\\site-packages (from pydantic<3.0.0,>=2.7.4->langchain) (0.7.0)\n",
      "Requirement already satisfied: pydantic-core==2.33.2 in c:\\miniforge\\lib\\site-packages (from pydantic<3.0.0,>=2.7.4->langchain) (2.33.2)\n",
      "Requirement already satisfied: typing-inspection>=0.4.0 in c:\\miniforge\\lib\\site-packages (from pydantic<3.0.0,>=2.7.4->langchain) (0.4.0)\n",
      "Requirement already satisfied: greenlet>=1 in c:\\miniforge\\lib\\site-packages (from SQLAlchemy<3,>=1.4->langchain) (3.2.2)\n",
      "Requirement already satisfied: sympy>=1.13.3 in c:\\miniforge\\lib\\site-packages (from torch>=1.11.0->sentence-transformers) (1.14.0)\n",
      "Requirement already satisfied: networkx in c:\\miniforge\\lib\\site-packages (from torch>=1.11.0->sentence-transformers) (3.4.2)\n",
      "Requirement already satisfied: jinja2 in c:\\miniforge\\lib\\site-packages (from torch>=1.11.0->sentence-transformers) (3.1.6)\n",
      "Requirement already satisfied: colorama in c:\\miniforge\\lib\\site-packages (from tqdm->sentence-transformers) (0.4.6)\n",
      "Requirement already satisfied: regex!=2019.12.17 in c:\\miniforge\\lib\\site-packages (from transformers>=4.39.0->langchain-huggingface) (2024.11.6)\n",
      "Requirement already satisfied: safetensors>=0.4.3 in c:\\miniforge\\lib\\site-packages (from transformers>=4.39.0->langchain-huggingface) (0.5.3)\n",
      "Requirement already satisfied: joblib>=1.2.0 in c:\\miniforge\\lib\\site-packages (from scikit-learn->sentence-transformers) (1.5.0)\n",
      "Requirement already satisfied: threadpoolctl>=3.1.0 in c:\\miniforge\\lib\\site-packages (from scikit-learn->sentence-transformers) (3.6.0)\n",
      "Requirement already satisfied: anyio in c:\\miniforge\\lib\\site-packages (from httpx<1,>=0.23.0->langsmith<0.4,>=0.1.17->langchain) (4.9.0)\n",
      "Requirement already satisfied: httpcore==1.* in c:\\miniforge\\lib\\site-packages (from httpx<1,>=0.23.0->langsmith<0.4,>=0.1.17->langchain) (1.0.9)\n",
      "Requirement already satisfied: h11>=0.16 in c:\\miniforge\\lib\\site-packages (from httpcore==1.*->httpx<1,>=0.23.0->langsmith<0.4,>=0.1.17->langchain) (0.16.0)\n",
      "Requirement already satisfied: jsonpointer>=1.9 in c:\\miniforge\\lib\\site-packages (from jsonpatch<2.0,>=1.33->langchain-core<1.0.0,>=0.3.58->langchain) (2.4)\n",
      "Requirement already satisfied: mpmath<1.4,>=1.1.0 in c:\\miniforge\\lib\\site-packages (from sympy>=1.13.3->torch>=1.11.0->sentence-transformers) (1.3.0)\n",
      "Requirement already satisfied: MarkupSafe>=2.0 in c:\\miniforge\\lib\\site-packages (from jinja2->torch>=1.11.0->sentence-transformers) (3.0.2)\n",
      "Requirement already satisfied: exceptiongroup>=1.0.2 in c:\\miniforge\\lib\\site-packages (from anyio->httpx<1,>=0.23.0->langsmith<0.4,>=0.1.17->langchain) (1.2.2)\n",
      "Requirement already satisfied: sniffio>=1.1 in c:\\miniforge\\lib\\site-packages (from anyio->httpx<1,>=0.23.0->langsmith<0.4,>=0.1.17->langchain) (1.3.1)\n"
     ]
    }
   ],
   "source": [
    "!pip install langchain langchain-huggingface sentence-transformers faiss-cpu requests"
   ]
  },
  {
   "cell_type": "code",
   "execution_count": 15,
   "id": "4d9a0883",
   "metadata": {},
   "outputs": [
    {
     "name": "stdout",
     "output_type": "stream",
     "text": [
      "Requirement already satisfied: langchain-huggingface in c:\\miniforge\\lib\\site-packages (0.2.0)\n",
      "Requirement already satisfied: langchain-core<1.0.0,>=0.3.59 in c:\\miniforge\\lib\\site-packages (from langchain-huggingface) (0.3.60)\n",
      "Requirement already satisfied: tokenizers>=0.19.1 in c:\\miniforge\\lib\\site-packages (from langchain-huggingface) (0.21.1)\n",
      "Requirement already satisfied: transformers>=4.39.0 in c:\\miniforge\\lib\\site-packages (from langchain-huggingface) (4.51.3)\n",
      "Requirement already satisfied: sentence-transformers>=2.6.0 in c:\\miniforge\\lib\\site-packages (from langchain-huggingface) (4.1.0)\n",
      "Requirement already satisfied: huggingface-hub>=0.30.2 in c:\\miniforge\\lib\\site-packages (from langchain-huggingface) (0.31.2)\n",
      "Requirement already satisfied: filelock in c:\\miniforge\\lib\\site-packages (from huggingface-hub>=0.30.2->langchain-huggingface) (3.18.0)\n",
      "Requirement already satisfied: fsspec>=2023.5.0 in c:\\miniforge\\lib\\site-packages (from huggingface-hub>=0.30.2->langchain-huggingface) (2025.3.2)\n",
      "Requirement already satisfied: packaging>=20.9 in c:\\miniforge\\lib\\site-packages (from huggingface-hub>=0.30.2->langchain-huggingface) (24.0)\n",
      "Requirement already satisfied: pyyaml>=5.1 in c:\\miniforge\\lib\\site-packages (from huggingface-hub>=0.30.2->langchain-huggingface) (6.0.2)\n",
      "Requirement already satisfied: requests in c:\\miniforge\\lib\\site-packages (from huggingface-hub>=0.30.2->langchain-huggingface) (2.31.0)\n",
      "Requirement already satisfied: tqdm>=4.42.1 in c:\\miniforge\\lib\\site-packages (from huggingface-hub>=0.30.2->langchain-huggingface) (4.66.2)\n",
      "Requirement already satisfied: typing-extensions>=3.7.4.3 in c:\\miniforge\\lib\\site-packages (from huggingface-hub>=0.30.2->langchain-huggingface) (4.13.2)\n",
      "Requirement already satisfied: langsmith<0.4,>=0.1.126 in c:\\miniforge\\lib\\site-packages (from langchain-core<1.0.0,>=0.3.59->langchain-huggingface) (0.3.42)\n",
      "Requirement already satisfied: tenacity!=8.4.0,<10.0.0,>=8.1.0 in c:\\miniforge\\lib\\site-packages (from langchain-core<1.0.0,>=0.3.59->langchain-huggingface) (9.1.2)\n",
      "Requirement already satisfied: jsonpatch<2.0,>=1.33 in c:\\miniforge\\lib\\site-packages (from langchain-core<1.0.0,>=0.3.59->langchain-huggingface) (1.33)\n",
      "Requirement already satisfied: pydantic>=2.7.4 in c:\\miniforge\\lib\\site-packages (from langchain-core<1.0.0,>=0.3.59->langchain-huggingface) (2.11.4)\n",
      "Requirement already satisfied: torch>=1.11.0 in c:\\miniforge\\lib\\site-packages (from sentence-transformers>=2.6.0->langchain-huggingface) (2.7.0)\n",
      "Requirement already satisfied: scikit-learn in c:\\miniforge\\lib\\site-packages (from sentence-transformers>=2.6.0->langchain-huggingface) (1.6.1)\n",
      "Requirement already satisfied: scipy in c:\\miniforge\\lib\\site-packages (from sentence-transformers>=2.6.0->langchain-huggingface) (1.15.2)\n",
      "Requirement already satisfied: Pillow in c:\\miniforge\\lib\\site-packages (from sentence-transformers>=2.6.0->langchain-huggingface) (11.2.1)\n",
      "Requirement already satisfied: numpy>=1.17 in c:\\miniforge\\lib\\site-packages (from transformers>=4.39.0->langchain-huggingface) (2.2.5)\n",
      "Requirement already satisfied: regex!=2019.12.17 in c:\\miniforge\\lib\\site-packages (from transformers>=4.39.0->langchain-huggingface) (2024.11.6)\n",
      "Requirement already satisfied: safetensors>=0.4.3 in c:\\miniforge\\lib\\site-packages (from transformers>=4.39.0->langchain-huggingface) (0.5.3)\n",
      "Requirement already satisfied: jsonpointer>=1.9 in c:\\miniforge\\lib\\site-packages (from jsonpatch<2.0,>=1.33->langchain-core<1.0.0,>=0.3.59->langchain-huggingface) (2.4)\n",
      "Requirement already satisfied: httpx<1,>=0.23.0 in c:\\miniforge\\lib\\site-packages (from langsmith<0.4,>=0.1.126->langchain-core<1.0.0,>=0.3.59->langchain-huggingface) (0.28.1)\n",
      "Requirement already satisfied: orjson<4.0.0,>=3.9.14 in c:\\miniforge\\lib\\site-packages (from langsmith<0.4,>=0.1.126->langchain-core<1.0.0,>=0.3.59->langchain-huggingface) (3.10.18)\n",
      "Requirement already satisfied: requests-toolbelt<2.0.0,>=1.0.0 in c:\\miniforge\\lib\\site-packages (from langsmith<0.4,>=0.1.126->langchain-core<1.0.0,>=0.3.59->langchain-huggingface) (1.0.0)\n",
      "Requirement already satisfied: zstandard<0.24.0,>=0.23.0 in c:\\miniforge\\lib\\site-packages (from langsmith<0.4,>=0.1.126->langchain-core<1.0.0,>=0.3.59->langchain-huggingface) (0.23.0)\n",
      "Requirement already satisfied: annotated-types>=0.6.0 in c:\\miniforge\\lib\\site-packages (from pydantic>=2.7.4->langchain-core<1.0.0,>=0.3.59->langchain-huggingface) (0.7.0)\n",
      "Requirement already satisfied: pydantic-core==2.33.2 in c:\\miniforge\\lib\\site-packages (from pydantic>=2.7.4->langchain-core<1.0.0,>=0.3.59->langchain-huggingface) (2.33.2)\n",
      "Requirement already satisfied: typing-inspection>=0.4.0 in c:\\miniforge\\lib\\site-packages (from pydantic>=2.7.4->langchain-core<1.0.0,>=0.3.59->langchain-huggingface) (0.4.0)\n",
      "Requirement already satisfied: charset-normalizer<4,>=2 in c:\\miniforge\\lib\\site-packages (from requests->huggingface-hub>=0.30.2->langchain-huggingface) (3.3.2)\n",
      "Requirement already satisfied: idna<4,>=2.5 in c:\\miniforge\\lib\\site-packages (from requests->huggingface-hub>=0.30.2->langchain-huggingface) (3.6)\n",
      "Requirement already satisfied: urllib3<3,>=1.21.1 in c:\\miniforge\\lib\\site-packages (from requests->huggingface-hub>=0.30.2->langchain-huggingface) (2.2.1)\n",
      "Requirement already satisfied: certifi>=2017.4.17 in c:\\miniforge\\lib\\site-packages (from requests->huggingface-hub>=0.30.2->langchain-huggingface) (2025.1.31)\n",
      "Requirement already satisfied: sympy>=1.13.3 in c:\\miniforge\\lib\\site-packages (from torch>=1.11.0->sentence-transformers>=2.6.0->langchain-huggingface) (1.14.0)\n",
      "Requirement already satisfied: networkx in c:\\miniforge\\lib\\site-packages (from torch>=1.11.0->sentence-transformers>=2.6.0->langchain-huggingface) (3.4.2)\n",
      "Requirement already satisfied: jinja2 in c:\\miniforge\\lib\\site-packages (from torch>=1.11.0->sentence-transformers>=2.6.0->langchain-huggingface) (3.1.6)\n",
      "Requirement already satisfied: colorama in c:\\miniforge\\lib\\site-packages (from tqdm>=4.42.1->huggingface-hub>=0.30.2->langchain-huggingface) (0.4.6)\n",
      "Requirement already satisfied: joblib>=1.2.0 in c:\\miniforge\\lib\\site-packages (from scikit-learn->sentence-transformers>=2.6.0->langchain-huggingface) (1.5.0)\n",
      "Requirement already satisfied: threadpoolctl>=3.1.0 in c:\\miniforge\\lib\\site-packages (from scikit-learn->sentence-transformers>=2.6.0->langchain-huggingface) (3.6.0)\n",
      "Requirement already satisfied: anyio in c:\\miniforge\\lib\\site-packages (from httpx<1,>=0.23.0->langsmith<0.4,>=0.1.126->langchain-core<1.0.0,>=0.3.59->langchain-huggingface) (4.9.0)\n",
      "Requirement already satisfied: httpcore==1.* in c:\\miniforge\\lib\\site-packages (from httpx<1,>=0.23.0->langsmith<0.4,>=0.1.126->langchain-core<1.0.0,>=0.3.59->langchain-huggingface) (1.0.9)\n",
      "Requirement already satisfied: h11>=0.16 in c:\\miniforge\\lib\\site-packages (from httpcore==1.*->httpx<1,>=0.23.0->langsmith<0.4,>=0.1.126->langchain-core<1.0.0,>=0.3.59->langchain-huggingface) (0.16.0)\n",
      "Requirement already satisfied: mpmath<1.4,>=1.1.0 in c:\\miniforge\\lib\\site-packages (from sympy>=1.13.3->torch>=1.11.0->sentence-transformers>=2.6.0->langchain-huggingface) (1.3.0)\n",
      "Requirement already satisfied: MarkupSafe>=2.0 in c:\\miniforge\\lib\\site-packages (from jinja2->torch>=1.11.0->sentence-transformers>=2.6.0->langchain-huggingface) (3.0.2)\n",
      "Requirement already satisfied: exceptiongroup>=1.0.2 in c:\\miniforge\\lib\\site-packages (from anyio->httpx<1,>=0.23.0->langsmith<0.4,>=0.1.126->langchain-core<1.0.0,>=0.3.59->langchain-huggingface) (1.2.2)\n",
      "Requirement already satisfied: sniffio>=1.1 in c:\\miniforge\\lib\\site-packages (from anyio->httpx<1,>=0.23.0->langsmith<0.4,>=0.1.126->langchain-core<1.0.0,>=0.3.59->langchain-huggingface) (1.3.1)\n",
      "Note: you may need to restart the kernel to use updated packages.\n"
     ]
    }
   ],
   "source": [
    "pip install -U langchain-huggingface"
   ]
  },
  {
   "cell_type": "code",
   "execution_count": 16,
   "id": "45e8c115",
   "metadata": {},
   "outputs": [],
   "source": [
    "import requests\n",
    "from langchain.document_loaders import UnstructuredURLLoader\n",
    "from langchain.vectorstores import FAISS\n",
    "from langchain_huggingface import HuggingFaceEmbeddings\n",
    "from langchain.text_splitter import RecursiveCharacterTextSplitter\n",
    "from langchain.schema import Document"
   ]
  },
  {
   "cell_type": "code",
   "execution_count": null,
   "id": "8573ad6b",
   "metadata": {},
   "outputs": [
    {
     "name": "stdout",
     "output_type": "stream",
     "text": [
      "✅ Split into 32 chunks\n"
     ]
    }
   ],
   "source": [
    "# Step 1: Load and Split Articles from URLs\n",
    "urls = [\n",
    "    \"https://www.moneycontrol.com/news/business/markets/wall-street-rises-as-tesla-soars-on-ai-optimism-11351111.html\",\n",
    "    \"https://www.moneycontrol.com/news/business/tata-motors-launches-punch-icng-price-starts-at-rs-7-1-lakh-11098751.html\"\n",
    "]\n",
    "\n",
    "loader = UnstructuredURLLoader(urls=urls)\n",
    "documents = loader.load()\n",
    "\n",
    "# Split large documents into manageable chunks\n",
    "splitter = RecursiveCharacterTextSplitter(chunk_size=1000, chunk_overlap=200)\n",
    "docs = splitter.split_documents(documents)\n",
    "print(f\"✅ Split into {len(docs)} chunks\")"
   ]
  },
  {
   "cell_type": "code",
   "execution_count": 18,
   "id": "ecce3b66",
   "metadata": {},
   "outputs": [],
   "source": [
    "embedding_model = HuggingFaceEmbeddings(model_name=\"sentence-transformers/all-MiniLM-L6-v2\")\n",
    "vector_index = FAISS.from_documents(docs, embedding_model)"
   ]
  },
  {
   "cell_type": "code",
   "execution_count": 21,
   "id": "032eafff",
   "metadata": {},
   "outputs": [],
   "source": [
    "# Step 3: Define a function to query LM Studio with retrieved context\n",
    "def query_lmstudio_rag(prompt, retrieved_docs, model=\"deepseek-r1-distill-qwen-7b\"):\n",
    "    url = \"http://localhost:1234/v1/chat/completions\"\n",
    "    headers = {\"Content-Type\": \"application/json\"}\n",
    "\n",
    "    # Combine context from retrieved docs\n",
    "    context = \"\\n\\n\".join([doc.page_content for doc in retrieved_docs])\n",
    "\n",
    "    # Construct final prompt with retrieved context\n",
    "    final_prompt = f\"\"\"Use the following news article excerpts to answer the question.\n",
    "\n",
    "{context}\n",
    "\n",
    "Question: {prompt}\n",
    "Answer:\"\"\"\n",
    "\n",
    "    payload = {\n",
    "        \"model\": model,\n",
    "        \"messages\": [{\"role\": \"user\", \"content\": final_prompt}],\n",
    "        \"temperature\": 0.9,\n",
    "        \"max_tokens\": 500\n",
    "    }\n",
    "\n",
    "    try:\n",
    "        response = requests.post(url, headers=headers, json=payload)\n",
    "        response.raise_for_status()\n",
    "        result = response.json()\n",
    "\n",
    "        if \"choices\" not in result:\n",
    "            print(\"❌ Unexpected API response format:\")\n",
    "            print(result)\n",
    "            return \"Error: 'choices' not found in API response.\"\n",
    "\n",
    "        return result[\"choices\"][0][\"message\"][\"content\"]\n",
    "\n",
    "    except requests.exceptions.RequestException as e:\n",
    "        return f\"❌ API request failed: {e}\"\n"
   ]
  },
  {
   "cell_type": "code",
   "execution_count": null,
   "id": "790fd026",
   "metadata": {},
   "outputs": [],
   "source": [
    "# Step 4: Ask a question (retrieval + generation)\n",
    "user_question = \"What is price of the Tiago iCNG?\"\n",
    "\n",
    "# Retrieve top 4 most relevant document chunks\n",
    "retrieved_docs = vector_index.similarity_search(user_question, k=4)\n",
    "\n",
    "# Get answer from DeepSeek via LM Studio\n",
    "response = query_lmstudio_rag(user_question, retrieved_docs)\n",
    "print(\"\\n📢 LLM Response:\\n\", response)"
   ]
  },
  {
   "cell_type": "code",
   "execution_count": null,
   "id": "c1124cea",
   "metadata": {},
   "outputs": [],
   "source": [
    "def run_rag_query(question: str, k=4):\n",
    "    # Step 1: Retrieve top-k relevant document chunks\n",
    "    retrieved_docs = vector_index.similarity_search(question, k=k)\n",
    "\n",
    "    # Step 2: Ask LM Studio with the retrieved documents\n",
    "    answer = query_lmstudio_rag(question, retrieved_docs)\n",
    "    \n",
    "    # Optional: also return the sources\n",
    "    sources = [doc.metadata.get(\"source\", \"Unknown\") for doc in retrieved_docs]\n",
    "    \n",
    "    return {\n",
    "        \"answer\": answer,\n",
    "        \"sources\": sources\n",
    "    }"
   ]
  },
  {
   "cell_type": "code",
   "execution_count": 31,
   "id": "29e10584",
   "metadata": {},
   "outputs": [
    {
     "name": "stdout",
     "output_type": "stream",
     "text": [
      "📢 Answer:\n",
      " <think>\n",
      "Okay, so I need to figure out the price of the Tiago iCNG based on the news article provided. Let me read through the excerpt carefully to extract all relevant information.\n",
      "\n",
      "The article starts by mentioning two models from Tata Motors: the Tiago iCNG and the Tigor iCNG. The pricing for these vehicles is discussed right after, so I should look for those numbers. \n",
      "\n",
      "Looking at the first part of the excerpt:\n",
      "\n",
      "\"The Tiago iCNG is priced between Rs 6.55 lakh and Rs 8.1 lakh, while the Tigor iCNG comes at a price range of Rs 7.8 lakh to Rs 8.95 lakh.\"\n",
      "\n",
      "So it looks like the Tiago iCNG starts at Rs 6.55 lakh and goes up to Rs 8.1 lakh. The user is specifically asking for the price of the Tiago iCNG, so I need to provide both the minimum and maximum price range.\n",
      "\n",
      "I should double-check if there's any other mention of the Tiago iCNG in the article that could affect this pricing. Scanning further down, I see more details about the Punch iCNG but no additional information on the Tiago iCNG beyond its price range mentioned earlier.\n",
      "\n",
      "Therefore, based on the excerpt provided, the Tiago iCNG is priced between Rs 6.55 lakh and Rs 8.1 lakh.\n",
      "</think>\n",
      "\n",
      "The price of the Tata Motors Tiago iCNG ranges from Rs 6.55 lakh to Rs 8.1 lakh.\n",
      "\n",
      "📚 Sources:\n",
      "1. https://www.moneycontrol.com/news/business/tata-motors-launches-punch-icng-price-starts-at-rs-7-1-lakh-11098751.html\n",
      "2. https://www.moneycontrol.com/news/business/tata-motors-launches-punch-icng-price-starts-at-rs-7-1-lakh-11098751.html\n",
      "3. https://www.moneycontrol.com/news/business/tata-motors-launches-punch-icng-price-starts-at-rs-7-1-lakh-11098751.html\n",
      "4. https://www.moneycontrol.com/news/business/tata-motors-launches-punch-icng-price-starts-at-rs-7-1-lakh-11098751.html\n"
     ]
    }
   ],
   "source": [
    "question = \"What is price of the Tiago iCNG?\"\n",
    "response = run_rag_query(question)\n",
    "\n",
    "# Print final output\n",
    "print(\"📢 Answer:\\n\", response[\"answer\"])\n",
    "print(\"\\n📚 Sources:\")\n",
    "for i, src in enumerate(response[\"sources\"], 1):\n",
    "    print(f\"{i}. {src}\")\n"
   ]
  }
 ],
 "metadata": {
  "kernelspec": {
   "display_name": "base",
   "language": "python",
   "name": "python3"
  },
  "language_info": {
   "codemirror_mode": {
    "name": "ipython",
    "version": 3
   },
   "file_extension": ".py",
   "mimetype": "text/x-python",
   "name": "python",
   "nbconvert_exporter": "python",
   "pygments_lexer": "ipython3",
   "version": "3.10.14"
  }
 },
 "nbformat": 4,
 "nbformat_minor": 5
}
